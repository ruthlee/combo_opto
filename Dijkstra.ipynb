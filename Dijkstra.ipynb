{
 "cells": [
  {
   "cell_type": "code",
   "execution_count": 30,
   "metadata": {
    "collapsed": true
   },
   "outputs": [],
   "source": [
    "from digraph_class import Digraph\n",
    "from digraph_class import edge\n",
    "import numpy as np"
   ]
  },
  {
   "cell_type": "code",
   "execution_count": 76,
   "metadata": {},
   "outputs": [],
   "source": [
    "def dijkstra(D, s):\n",
    "    # initialize with the starting vertex s as the only thing in the q\n",
    "    U = [i for i in range(D.V)] # the queue of values to consider\n",
    "    f = [np.infty] * D.V\n",
    "    f[s] = 0\n",
    "    \n",
    "    while len(U) != 0:\n",
    "        print(\" 1. U = \", U)\n",
    "        print(\"f = \", f)\n",
    "        \n",
    "        # getting vertex with the smallest f(u) value for our first u in U. \n",
    "        minimum = f[U[0]]\n",
    "        for i in range(len(U)-1):\n",
    "            if f[i + 1] < f[i]:\n",
    "                minimum = f[i + 1]\n",
    "        u = f.index(minimum)\n",
    "        \n",
    "        print('u = ', u)\n",
    "        \n",
    "        for i in range(len(D.adj_list[u])): # loop over all the tuples (vertex, weight) that are adjacent to u \n",
    "            \n",
    "            v = D.adj_list[u][i][0] # the vertex adjacent to u \n",
    "            v_weight = D.adj_list[u][i][1] # the weight of the vertex adjacent to u (length)\n",
    "        \n",
    "            if f[u] + v_weight < f[v]:\n",
    "                f[v] = f[u] + v_weight\n",
    "        \n",
    "        del U[u]\n",
    "\n",
    "    return(f)"
   ]
  },
  {
   "cell_type": "code",
   "execution_count": 77,
   "metadata": {},
   "outputs": [
    {
     "data": {
      "text/plain": [
       "[[(1, 5), (2, 2), (3, 3)],\n",
       " [(5, 6)],\n",
       " [(6, 1)],\n",
       " [(4, 2)],\n",
       " [(5, 4), (6, 3)],\n",
       " [],\n",
       " []]"
      ]
     },
     "execution_count": 77,
     "metadata": {},
     "output_type": "execute_result"
    }
   ],
   "source": [
    "D = Digraph(7)\n",
    "D.add_edges([edge(0, 1, 5), edge(0, 2, 2), edge(0, 3, 3), edge(1, 5, 6), edge(2, 6, 1), edge(3, 4, 2), \\\n",
    "            edge(4, 5, 4), edge(4, 6, 3)])\n",
    "D.adj_list"
   ]
  },
  {
   "cell_type": "code",
   "execution_count": 78,
   "metadata": {},
   "outputs": [
    {
     "name": "stdout",
     "output_type": "stream",
     "text": [
      " 1. U =  [0, 1, 2, 3, 4, 5, 6]\n",
      "f =  [0, inf, inf, inf, inf, inf, inf]\n",
      "u =  0\n",
      " 1. U =  [1, 2, 3, 4, 5, 6]\n",
      "f =  [0, 5, 2, 3, inf, inf, inf]\n",
      "u =  2\n",
      " 1. U =  [1, 2, 4, 5, 6]\n",
      "f =  [0, 5, 2, 3, inf, inf, 3]\n",
      "u =  2\n",
      " 1. U =  [1, 2, 5, 6]\n",
      "f =  [0, 5, 2, 3, inf, inf, 3]\n",
      "u =  2\n",
      " 1. U =  [1, 2, 6]\n",
      "f =  [0, 5, 2, 3, inf, inf, 3]\n",
      "u =  2\n",
      " 1. U =  [1, 2]\n",
      "f =  [0, 5, 2, 3, inf, inf, 3]\n",
      "u =  1\n",
      " 1. U =  [1]\n",
      "f =  [0, 5, 2, 3, inf, 11, 3]\n",
      "u =  1\n"
     ]
    },
    {
     "ename": "IndexError",
     "evalue": "list assignment index out of range",
     "output_type": "error",
     "traceback": [
      "\u001b[0;31m---------------------------------------------------------------------------\u001b[0m",
      "\u001b[0;31mIndexError\u001b[0m                                Traceback (most recent call last)",
      "\u001b[0;32m<ipython-input-78-acbf45c98254>\u001b[0m in \u001b[0;36m<module>\u001b[0;34m()\u001b[0m\n\u001b[0;32m----> 1\u001b[0;31m \u001b[0mf\u001b[0m \u001b[0;34m=\u001b[0m \u001b[0mdijkstra\u001b[0m\u001b[0;34m(\u001b[0m\u001b[0mD\u001b[0m\u001b[0;34m,\u001b[0m \u001b[0;36m0\u001b[0m\u001b[0;34m)\u001b[0m\u001b[0;34m\u001b[0m\u001b[0m\n\u001b[0m",
      "\u001b[0;32m<ipython-input-76-468b21ab6955>\u001b[0m in \u001b[0;36mdijkstra\u001b[0;34m(D, s)\u001b[0m\n\u001b[1;32m     26\u001b[0m                 \u001b[0mf\u001b[0m\u001b[0;34m[\u001b[0m\u001b[0mv\u001b[0m\u001b[0;34m]\u001b[0m \u001b[0;34m=\u001b[0m \u001b[0mf\u001b[0m\u001b[0;34m[\u001b[0m\u001b[0mu\u001b[0m\u001b[0;34m]\u001b[0m \u001b[0;34m+\u001b[0m \u001b[0mv_weight\u001b[0m\u001b[0;34m\u001b[0m\u001b[0m\n\u001b[1;32m     27\u001b[0m \u001b[0;34m\u001b[0m\u001b[0m\n\u001b[0;32m---> 28\u001b[0;31m         \u001b[0;32mdel\u001b[0m \u001b[0mU\u001b[0m\u001b[0;34m[\u001b[0m\u001b[0mu\u001b[0m\u001b[0;34m]\u001b[0m\u001b[0;34m\u001b[0m\u001b[0m\n\u001b[0m\u001b[1;32m     29\u001b[0m \u001b[0;34m\u001b[0m\u001b[0m\n\u001b[1;32m     30\u001b[0m     \u001b[0;32mreturn\u001b[0m\u001b[0;34m(\u001b[0m\u001b[0mf\u001b[0m\u001b[0;34m)\u001b[0m\u001b[0;34m\u001b[0m\u001b[0m\n",
      "\u001b[0;31mIndexError\u001b[0m: list assignment index out of range"
     ]
    }
   ],
   "source": [
    "f = dijkstra(D, 0)"
   ]
  },
  {
   "cell_type": "code",
   "execution_count": 69,
   "metadata": {},
   "outputs": [
    {
     "data": {
      "text/plain": [
       "[]"
      ]
     },
     "execution_count": 69,
     "metadata": {},
     "output_type": "execute_result"
    }
   ],
   "source": [
    "x = [1]\n",
    "del x[0]\n",
    "x"
   ]
  },
  {
   "cell_type": "code",
   "execution_count": null,
   "metadata": {
    "collapsed": true
   },
   "outputs": [],
   "source": []
  }
 ],
 "metadata": {
  "kernelspec": {
   "display_name": "Python 3",
   "language": "python",
   "name": "python3"
  },
  "language_info": {
   "codemirror_mode": {
    "name": "ipython",
    "version": 3
   },
   "file_extension": ".py",
   "mimetype": "text/x-python",
   "name": "python",
   "nbconvert_exporter": "python",
   "pygments_lexer": "ipython3",
   "version": "3.6.3"
  }
 },
 "nbformat": 4,
 "nbformat_minor": 2
}
