{
 "cells": [
  {
   "cell_type": "code",
   "execution_count": 3,
   "metadata": {
    "collapsed": true
   },
   "outputs": [],
   "source": [
    "from digraph_class import Digraph\n",
    "from digraph_class import edge\n",
    "import numpy as np"
   ]
  },
  {
   "cell_type": "code",
   "execution_count": 36,
   "metadata": {
    "collapsed": true
   },
   "outputs": [],
   "source": [
    "def dijkstra(D, s, end = None):\n",
    "    # initialize with the starting vertex s as the only thing in the q\n",
    "    U = [i for i in range(D.V)] # the queue of vertices to consider\n",
    "    f = [np.infty] * D.V\n",
    "    f[s] = 0\n",
    "    \n",
    "    while len(U) != 0:\n",
    "        print(\"f = \", f)\n",
    "        \n",
    "        # getting vertex with the smallest f(u) value for our first u in U. \n",
    "        index = U[0]\n",
    "        for i in range(len(U)-1):\n",
    "            if f[U[i + 1]] < f[U[i]]:\n",
    "                index = U[i + 1]\n",
    "        u = index\n",
    "        \n",
    "        for i in range(len(D.adj_list[u])): # loop over all the tuples (vertex, weight) that are adjacent to u \n",
    "            \n",
    "            v = D.adj_list[u][i][0] # the vertex adjacent to u \n",
    "            v_weight = D.adj_list[u][i][1] # the weight of the vertex adjacent to u (length)\n",
    "        \n",
    "            if f[u] + v_weight < f[v]:\n",
    "                f[v] = f[u] + v_weight\n",
    "        \n",
    "        \n",
    "        U.remove(u) # removes the first matching value of u from U\n",
    "\n",
    "    return(f)"
   ]
  },
  {
   "cell_type": "code",
   "execution_count": 37,
   "metadata": {},
   "outputs": [
    {
     "data": {
      "text/plain": [
       "[[(1, 5), (2, 2), (3, 3)],\n",
       " [(5, 6)],\n",
       " [(6, 1)],\n",
       " [(4, 2)],\n",
       " [(5, 4), (6, 3)],\n",
       " [],\n",
       " []]"
      ]
     },
     "execution_count": 37,
     "metadata": {},
     "output_type": "execute_result"
    }
   ],
   "source": [
    "D = Digraph(7)\n",
    "D.add_edges([edge(0, 1, 5), edge(0, 2, 2), edge(0, 3, 3), edge(1, 5, 6), edge(2, 6, 1), edge(3, 4, 2), \\\n",
    "            edge(4, 5, 4), edge(4, 6, 3)])\n",
    "D.adj_list"
   ]
  },
  {
   "cell_type": "code",
   "execution_count": 39,
   "metadata": {},
   "outputs": [
    {
     "name": "stdout",
     "output_type": "stream",
     "text": [
      "f =  [0, inf, inf, inf, inf, inf, inf]\n",
      "f =  [0, 5, 2, 3, inf, inf, inf]\n",
      "f =  [0, 5, 2, 3, inf, inf, 3]\n",
      "f =  [0, 5, 2, 3, inf, inf, 3]\n",
      "f =  [0, 5, 2, 3, 5, inf, 3]\n",
      "f =  [0, 5, 2, 3, 5, 11, 3]\n",
      "f =  [0, 5, 2, 3, 5, 9, 3]\n",
      "[0, 5, 2, 3, 5, 9, 3]\n",
      "9\n"
     ]
    }
   ],
   "source": [
    "f = dijkstra(D, 0)\n",
    "\n",
    "print(f)\n",
    "print(f[5])"
   ]
  },
  {
   "cell_type": "code",
   "execution_count": 164,
   "metadata": {},
   "outputs": [],
   "source": [
    "# Get the digraph for the algorithm \n",
    "\n",
    "employees_needed = [0, 10, 7, 9, 8, 11]\n",
    "max_employees = max(employees_needed)\n",
    "current_vertices = {employees_needed[0] : 0}\n",
    "weights = []\n",
    "\n",
    "for i in range(len(employees_needed)-1):\n",
    "    next_vertices = [i for i in range(employees_needed[i+1], max_employees + 1)]\n",
    "    # print(\"current = \", current_vertices)\n",
    "    # print(\"next = \", next_vertices)\n",
    "    # print('i = ', i)\n",
    "    for k in range(len(current_vertices)):\n",
    "        # print('k = ', k)\n",
    "        for j in range(len(next_vertices)):\n",
    "            # print('j = ', j)\n",
    "            if next_vertices[j] >= current_vertices[k]:  # we need to hire employees to get to the next vertex (no firing)\n",
    "                weight = (next_vertices[j] - current_vertices[k]) * 8 + (next_vertices[j] - employees_needed[i+1]) * 16\n",
    "                # print('end vertex = ' + str(current_vertices.index(max(current_vertices))+j + k+ i +1))\n",
    "            else: \n",
    "                weight = (current_vertices[k] - next_vertices[j]) * 12 + (next_vertices[j] - employees_needed[i+1]) * 16\n",
    "                # print('end vertex = ' + str(current_vertices.index(max(current_vertices))+j+ i +k + 1))\n",
    "            # print(weight)\n",
    "            weights.append(weight)\n",
    "    current_vertices = next_vertices\n",
    "    \n",
    "weights.append(132) # the last weight"
   ]
  },
  {
   "cell_type": "code",
   "execution_count": 179,
   "metadata": {},
   "outputs": [],
   "source": [
    "tuples = [(0, 1), (0, 2),\n",
    "    (1, 3), (1, 4), (1, 5), (1, 6),(1, 7),\n",
    "    (2, 3),(2, 4),(2, 5),(2, 6),(2, 7),\n",
    "    (3, 8),(3, 9),(3, 10),\n",
    "    (4, 8),(4, 9),(4, 10),\n",
    "    (5, 8),(5, 9),(5, 10),\n",
    "    (6, 8),(6, 9),(6, 10),\n",
    "    (7, 8),(7, 9),(7, 10),\n",
    "    (8, 11),(8, 12),(8, 13),(8, 14),\n",
    "    (9, 14),(9, 11),(9, 12),(9, 14),\n",
    "    (10, 13),(10, 14),(10, 11),(10, 14),\n",
    "    (11, 15),\n",
    "    (12, 15),\n",
    "    (13, 15),\n",
    "    (14, 15),\n",
    "    (15, 16)]\n",
    "\n",
    "edges = []\n",
    "for i in range(len(tuples)):\n",
    "    edges.append(edge(tuples[i][0], tuples[i][1], weights[i]))"
   ]
  },
  {
   "cell_type": "code",
   "execution_count": 182,
   "metadata": {},
   "outputs": [
    {
     "name": "stdout",
     "output_type": "stream",
     "text": [
      "f =  [0, inf, inf, inf, inf, inf, inf, inf, inf, inf, inf, inf, inf, inf, inf, inf, inf]\n",
      "f =  [0, 80, 104, inf, inf, inf, inf, inf, inf, inf, inf, inf, inf, inf, inf, inf, inf]\n",
      "f =  [0, 80, 104, 116, 120, 124, 128, 152, inf, inf, inf, inf, inf, inf, inf, inf, inf]\n",
      "f =  [0, 80, 104, 116, 120, 124, 128, 152, inf, inf, inf, inf, inf, inf, inf, inf, inf]\n",
      "f =  [0, 80, 104, 116, 120, 124, 128, 152, 132, 156, 180, inf, inf, inf, inf, inf, inf]\n",
      "f =  [0, 80, 104, 116, 120, 124, 128, 152, 132, 156, 180, 144, 148, 172, 196, inf, inf]\n",
      "f =  [0, 80, 104, 116, 120, 124, 128, 152, 132, 156, 180, 144, 148, 172, 196, 168, inf]\n",
      "f =  [0, 80, 104, 116, 120, 124, 128, 152, 132, 156, 180, 144, 148, 172, 196, 168, 300]\n",
      "f =  [0, 80, 104, 116, 120, 124, 128, 152, 132, 156, 180, 144, 148, 172, 196, 164, 300]\n",
      "f =  [0, 80, 104, 116, 120, 124, 128, 152, 132, 156, 180, 144, 148, 172, 196, 164, 300]\n",
      "f =  [0, 80, 104, 116, 120, 124, 128, 152, 128, 152, 176, 144, 148, 172, 196, 164, 300]\n",
      "f =  [0, 80, 104, 116, 120, 124, 128, 152, 124, 148, 172, 144, 148, 172, 196, 164, 300]\n",
      "f =  [0, 80, 104, 116, 120, 124, 128, 152, 124, 148, 172, 144, 148, 172, 172, 164, 300]\n",
      "f =  [0, 80, 104, 116, 120, 124, 128, 152, 124, 144, 168, 144, 148, 172, 172, 164, 300]\n",
      "f =  [0, 80, 104, 116, 120, 124, 128, 152, 124, 144, 168, 144, 148, 172, 172, 164, 300]\n",
      "f =  [0, 80, 104, 116, 120, 124, 128, 152, 124, 144, 168, 144, 148, 172, 172, 164, 300]\n",
      "f =  [0, 80, 104, 116, 120, 124, 128, 152, 124, 144, 168, 144, 148, 172, 172, 164, 300]\n",
      "[0, 80, 104, 116, 120, 124, 128, 152, 124, 144, 168, 144, 148, 172, 172, 164, 300]\n"
     ]
    }
   ],
   "source": [
    "D = Digraph(17)\n",
    "D.add_edges(edges)\n",
    "\n",
    "f = dijkstra(D, 0)\n",
    "print(f)"
   ]
  },
  {
   "cell_type": "code",
   "execution_count": 178,
   "metadata": {},
   "outputs": [
    {
     "ename": "AssertionError",
     "evalue": "Such source node doesn't exist",
     "output_type": "error",
     "traceback": [
      "\u001b[0;31m---------------------------------------------------------------------------\u001b[0m",
      "\u001b[0;31mAssertionError\u001b[0m                            Traceback (most recent call last)",
      "\u001b[0;32m<ipython-input-178-d5396be4aefa>\u001b[0m in \u001b[0;36m<module>\u001b[0;34m()\u001b[0m\n\u001b[1;32m     93\u001b[0m     (0, 1, 7),  (1, 2, 9)])\n\u001b[1;32m     94\u001b[0m \u001b[0;34m\u001b[0m\u001b[0m\n\u001b[0;32m---> 95\u001b[0;31m \u001b[0mprint\u001b[0m\u001b[0;34m(\u001b[0m\u001b[0mgraph\u001b[0m\u001b[0;34m.\u001b[0m\u001b[0mdijkstra\u001b[0m\u001b[0;34m(\u001b[0m\u001b[0;34m\"a\"\u001b[0m\u001b[0;34m,\u001b[0m \u001b[0;34m\"c\"\u001b[0m\u001b[0;34m)\u001b[0m\u001b[0;34m)\u001b[0m\u001b[0;34m\u001b[0m\u001b[0m\n\u001b[0m",
      "\u001b[0;32m<ipython-input-178-d5396be4aefa>\u001b[0m in \u001b[0;36mdijkstra\u001b[0;34m(self, source, dest)\u001b[0m\n\u001b[1;32m     61\u001b[0m \u001b[0;34m\u001b[0m\u001b[0m\n\u001b[1;32m     62\u001b[0m     \u001b[0;32mdef\u001b[0m \u001b[0mdijkstra\u001b[0m\u001b[0;34m(\u001b[0m\u001b[0mself\u001b[0m\u001b[0;34m,\u001b[0m \u001b[0msource\u001b[0m\u001b[0;34m,\u001b[0m \u001b[0mdest\u001b[0m\u001b[0;34m)\u001b[0m\u001b[0;34m:\u001b[0m\u001b[0;34m\u001b[0m\u001b[0m\n\u001b[0;32m---> 63\u001b[0;31m         \u001b[0;32massert\u001b[0m \u001b[0msource\u001b[0m \u001b[0;32min\u001b[0m \u001b[0mself\u001b[0m\u001b[0;34m.\u001b[0m\u001b[0mvertices\u001b[0m\u001b[0;34m,\u001b[0m \u001b[0;34m'Such source node doesn\\'t exist'\u001b[0m\u001b[0;34m\u001b[0m\u001b[0m\n\u001b[0m\u001b[1;32m     64\u001b[0m         \u001b[0mdistances\u001b[0m \u001b[0;34m=\u001b[0m \u001b[0;34m{\u001b[0m\u001b[0mvertex\u001b[0m\u001b[0;34m:\u001b[0m \u001b[0minf\u001b[0m \u001b[0;32mfor\u001b[0m \u001b[0mvertex\u001b[0m \u001b[0;32min\u001b[0m \u001b[0mself\u001b[0m\u001b[0;34m.\u001b[0m\u001b[0mvertices\u001b[0m\u001b[0;34m}\u001b[0m\u001b[0;34m\u001b[0m\u001b[0m\n\u001b[1;32m     65\u001b[0m         previous_vertices = {\n",
      "\u001b[0;31mAssertionError\u001b[0m: Such source node doesn't exist"
     ]
    }
   ],
   "source": [
    "from collections import deque, namedtuple\n",
    "\n",
    "\n",
    "# we'll use infinity as a default distance to nodes.\n",
    "inf = float('inf')\n",
    "Edge = namedtuple('Edge', 'start, end, cost')\n",
    "\n",
    "\n",
    "def make_edge(start, end, cost=1):\n",
    "  return Edge(start, end, cost)\n",
    "\n",
    "\n",
    "class Graph:\n",
    "    def __init__(self, edges):\n",
    "        # let's check that the data is right\n",
    "        wrong_edges = [i for i in edges if len(i) not in [2, 3]]\n",
    "        if wrong_edges:\n",
    "            raise ValueError('Wrong edges data: {}'.format(wrong_edges))\n",
    "\n",
    "        self.edges = [make_edge(*edge) for edge in edges]\n",
    "\n",
    "    @property\n",
    "    def vertices(self):\n",
    "        return set(\n",
    "            sum(\n",
    "                ([edge.start, edge.end] for edge in self.edges), []\n",
    "            )\n",
    "        )\n",
    "\n",
    "    def get_node_pairs(self, n1, n2, both_ends=True):\n",
    "        if both_ends:\n",
    "            node_pairs = [[n1, n2], [n2, n1]]\n",
    "        else:\n",
    "            node_pairs = [[n1, n2]]\n",
    "        return node_pairs\n",
    "\n",
    "    def remove_edge(self, n1, n2, both_ends=True):\n",
    "        node_pairs = self.get_node_pairs(n1, n2, both_ends)\n",
    "        edges = self.edges[:]\n",
    "        for edge in edges:\n",
    "            if [edge.start, edge.end] in node_pairs:\n",
    "                self.edges.remove(edge)\n",
    "\n",
    "    def add_edge(self, n1, n2, cost=1, both_ends=True):\n",
    "        node_pairs = self.get_node_pairs(n1, n2, both_ends)\n",
    "        for edge in self.edges:\n",
    "            if [edge.start, edge.end] in node_pairs:\n",
    "                return ValueError('Edge {} {} already exists'.format(n1, n2))\n",
    "\n",
    "        self.edges.append(Edge(start=n1, end=n2, cost=cost))\n",
    "        if both_ends:\n",
    "            self.edges.append(Edge(start=n2, end=n1, cost=cost))\n",
    "\n",
    "    @property\n",
    "    def neighbours(self):\n",
    "        neighbours = {vertex: set() for vertex in self.vertices}\n",
    "        for edge in self.edges:\n",
    "            neighbours[edge.start].add((edge.end, edge.cost))\n",
    "\n",
    "        return neighbours\n",
    "\n",
    "    def dijkstra(self, source, dest):\n",
    "        assert source in self.vertices, 'Such source node doesn\\'t exist'\n",
    "        distances = {vertex: inf for vertex in self.vertices}\n",
    "        previous_vertices = {\n",
    "            vertex: None for vertex in self.vertices\n",
    "        }\n",
    "        distances[source] = 0\n",
    "        vertices = self.vertices.copy()\n",
    "\n",
    "        while vertices:\n",
    "            current_vertex = min(\n",
    "                vertices, key=lambda vertex: distances[vertex])\n",
    "            vertices.remove(current_vertex)\n",
    "            if distances[current_vertex] == inf:\n",
    "                break\n",
    "            for neighbour, cost in self.neighbours[current_vertex]:\n",
    "                alternative_route = distances[current_vertex] + cost\n",
    "                if alternative_route < distances[neighbour]:\n",
    "                    distances[neighbour] = alternative_route\n",
    "                    previous_vertices[neighbour] = current_vertex\n",
    "\n",
    "        path, current_vertex = deque(), dest\n",
    "        while previous_vertices[current_vertex] is not None:\n",
    "            path.appendleft(current_vertex)\n",
    "            current_vertex = previous_vertices[current_vertex]\n",
    "        if path:\n",
    "            path.appendleft(current_vertex)\n",
    "        return path\n",
    "\n",
    "\n",
    "graph = Graph([\n",
    "    (0, 1, 7),  (1, 2, 9)])\n",
    "\n",
    "print(graph.dijkstra(\"a\", \"c\"))"
   ]
  },
  {
   "cell_type": "code",
   "execution_count": 113,
   "metadata": {
    "collapsed": true
   },
   "outputs": [],
   "source": [
    "vertex_dict = {}"
   ]
  },
  {
   "cell_type": "code",
   "execution_count": null,
   "metadata": {
    "collapsed": true
   },
   "outputs": [],
   "source": []
  }
 ],
 "metadata": {
  "kernelspec": {
   "display_name": "Python 3",
   "language": "python",
   "name": "python3"
  },
  "language_info": {
   "codemirror_mode": {
    "name": "ipython",
    "version": 3
   },
   "file_extension": ".py",
   "mimetype": "text/x-python",
   "name": "python",
   "nbconvert_exporter": "python",
   "pygments_lexer": "ipython3",
   "version": "3.6.3"
  }
 },
 "nbformat": 4,
 "nbformat_minor": 2
}
