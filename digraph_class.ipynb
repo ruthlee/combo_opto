{
 "cells": [
  {
   "cell_type": "code",
   "execution_count": 82,
   "metadata": {},
   "outputs": [],
   "source": [
    "# goal: implement an adjacency list class for a digraph given a list of inputs that connect two vertices. \n",
    "# We want methods for adding edges by inputting two integers, i.e., 1, 2 means that vertices 1 and 2 are connected.\n",
    "# since \n",
    "\n",
    "class Digraph:\n",
    "    def __init__(self, V): # V is the number of vertices\n",
    "        self.V = V\n",
    "        self.adj_list = [[] for i in range(V)] # placeholder adjacency list \n",
    "    \n",
    "    # add edge\n",
    "    def add_edge(self, v, w): # v, w in V\n",
    "        if v > self.V or w > self.V: \n",
    "             raise ValueError('The vertex labels must be between ' + str(0) + ' and ' + str(self.V))\n",
    "        self.adj_list[v].append(w)\n",
    "    \n",
    "    def remove_edge(self, v, w):\n",
    "        if v > self.V or w > self.V: \n",
    "             raise ValueError('The vertex labels must be between ' + str(0) + ' and ' + str(self.V))\n",
    "        self.adj_list[v].remove(w)\n",
    "        \n",
    "    def add_edges(self, edges):\n",
    "        # takes in a list of tuples of edges and puts them in D. \n",
    "        for i in range(len(edges)):\n",
    "            self.add_edge(edges[i][0], edges[i][1])\n",
    "    \n",
    "    def remove_edges(self, edges):\n",
    "        for i in range(len(edges)):\n",
    "            self.remove_edge(edges[i][0], edges[i][1])\n",
    "            \n",
    "    def print_digraph(self, long = False):\n",
    "    # returns a summary of the digraph, with optional boolean input \"long\" for a more descriptive output\n",
    "        if long: \n",
    "            for i in range(len(self.adj_list)):\n",
    "                print('Vertex ' + str(i) + ' is adjacent to vertices ', end=\"\")\n",
    "                print(*self.adj_list[i])\n",
    "        else:\n",
    "            for i in range(len(self.adj_list)):\n",
    "                print(str(i) + '->', end='')\n",
    "                print(*self.adj_list[i], sep = '->')    "
   ]
  },
  {
   "cell_type": "code",
   "execution_count": 81,
   "metadata": {},
   "outputs": [
    {
     "name": "stdout",
     "output_type": "stream",
     "text": [
      "0->1->4\n",
      "1->3\n",
      "2->\n",
      "3->\n",
      "4->\n",
      "5->\n",
      "[[1, 4], [3], [], [], [], []]\n"
     ]
    }
   ],
   "source": [
    "# sample digraph \n",
    "D = Digraph(6)\n",
    "D.add_edge(0, 1)\n",
    "D.add_edge(1, 3)\n",
    "D.add_edge(2, 4)\n",
    "D.add_edge(0, 4)\n",
    "D.remove_edge(2, 4)\n",
    "D.print_digraph()\n",
    "print(D.adj_list)"
   ]
  },
  {
   "cell_type": "code",
   "execution_count": null,
   "metadata": {
    "collapsed": true
   },
   "outputs": [],
   "source": []
  }
 ],
 "metadata": {
  "kernelspec": {
   "display_name": "Python 3",
   "language": "python",
   "name": "python3"
  },
  "language_info": {
   "codemirror_mode": {
    "name": "ipython",
    "version": 3
   },
   "file_extension": ".py",
   "mimetype": "text/x-python",
   "name": "python",
   "nbconvert_exporter": "python",
   "pygments_lexer": "ipython3",
   "version": "3.6.3"
  }
 },
 "nbformat": 4,
 "nbformat_minor": 2
}
