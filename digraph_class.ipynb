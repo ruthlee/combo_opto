{
 "cells": [
  {
   "cell_type": "code",
   "execution_count": 20,
   "metadata": {
    "collapsed": true
   },
   "outputs": [],
   "source": [
    "# goal: implement an adjacency list class for a digraph given a list of inputs that connect two vertices. \n",
    "# We want methods for adding edges by inputting two integers, i.e., 1, 2 means that vertices 1 and 2 are connected.\n",
    "# since \n",
    "\n",
    "class edge:\n",
    "    def __init__(self, v, w, weight):\n",
    "        self.v = v \n",
    "        self.w = w\n",
    "        self.weight = weight\n",
    "\n",
    "class Digraph:\n",
    "    ''' Note that the edge will always be represented in the adjacency list as a tuple with (end_vertex, weight).\n",
    "    '''\n",
    "    def __init__(self, V): # V is the number of vertices\n",
    "        self.V = V\n",
    "        self.adj_list = [[] for i in range(V)] # placeholder adjacency list \n",
    "    \n",
    "    # add edge\n",
    "    def add_edge(self, e): # v, w in V, we will add a tuple to the adjacency list. e is an instance of the edge class \n",
    "        if e.v > self.V or e.w > self.V: \n",
    "             raise ValueError('The vertex labels must be between ' + str(0) + ' and ' + str(self.V))\n",
    "        self.adj_list[e.v].append((e.w, e.weight))\n",
    "    \n",
    "    def remove_edge(self, e):\n",
    "        if e.v > self.V or e.w > self.V: \n",
    "             raise ValueError('The vertex labels must be between ' + str(0) + ' and ' + str(self.V))\n",
    "        self.adj_list[e.v].remove((e.w, e.weight))\n",
    "        \n",
    "    def add_edges(self, edges):\n",
    "        # takes in a list of edge instances and puts them in D. \n",
    "        for i in range(len(edges)):\n",
    "            self.add_edge(edges[i])\n",
    "    \n",
    "    def remove_edges(self, edges):\n",
    "        for i in range(len(edges)):\n",
    "            self.remove_edge(edges[i])\n",
    "            \n",
    "    def print_digraph(self, long = False):\n",
    "    # returns a summary of the digraph, with optional boolean input \"long\" for a more descriptive output\n",
    "        if long: \n",
    "            for i in range(len(self.adj_list)):\n",
    "                print('Vertex ' + str(i) + ' is adjacent to vertices ', end=\"\")\n",
    "                print(*self.adj_list[i])\n",
    "        else:\n",
    "            for i in range(len(self.adj_list)):\n",
    "                print(str(i) + '->', end='')\n",
    "                print(*self.adj_list[i], sep = '->')    "
   ]
  },
  {
   "cell_type": "code",
   "execution_count": 23,
   "metadata": {},
   "outputs": [
    {
     "name": "stdout",
     "output_type": "stream",
     "text": [
      "0->(1, 10)->(3, 4)\n",
      "1->\n",
      "2->(4, 5)\n",
      "3->\n",
      "4->\n",
      "[[(1, 10), (3, 4)], [], [(4, 5)], [], []]\n"
     ]
    }
   ],
   "source": [
    "# sample digraph \n",
    "D = Digraph(5)\n",
    "e = edge(0, 1, 10)\n",
    "e_r = edge(2, 4, 5)\n",
    "e2 = edge(0, 3, 4)\n",
    "# D.add_edge(e)\n",
    "# D.add_edge(e_r)\n",
    "# D.add_edge(edge(0, 3, 4))\n",
    "D.add_edges([e, e_r, e2])\n",
    "# D.remove_edge(e_r)\n",
    "D.print_digraph()\n",
    "print(D.adj_list)"
   ]
  },
  {
   "cell_type": "code",
   "execution_count": 6,
   "metadata": {},
   "outputs": [
    {
     "data": {
      "text/plain": [
       "10"
      ]
     },
     "execution_count": 6,
     "metadata": {},
     "output_type": "execute_result"
    }
   ],
   "source": [
    "e = edge(1, 2, 10)\n",
    "e.weight"
   ]
  },
  {
   "cell_type": "code",
   "execution_count": null,
   "metadata": {
    "collapsed": true
   },
   "outputs": [],
   "source": []
  }
 ],
 "metadata": {
  "kernelspec": {
   "display_name": "Python 3",
   "language": "python",
   "name": "python3"
  },
  "language_info": {
   "codemirror_mode": {
    "name": "ipython",
    "version": 3
   },
   "file_extension": ".py",
   "mimetype": "text/x-python",
   "name": "python",
   "nbconvert_exporter": "python",
   "pygments_lexer": "ipython3",
   "version": "3.6.3"
  }
 },
 "nbformat": 4,
 "nbformat_minor": 2
}
