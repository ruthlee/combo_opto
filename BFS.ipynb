{
 "cells": [
  {
   "cell_type": "code",
   "execution_count": 2,
   "metadata": {},
   "outputs": [],
   "source": [
    "from digraph_class import Digraph"
   ]
  },
  {
   "cell_type": "code",
   "execution_count": 23,
   "metadata": {},
   "outputs": [
    {
     "name": "stdout",
     "output_type": "stream",
     "text": [
      "0->1->2\n",
      "1->2\n",
      "2->4\n",
      "3->\n",
      "4->\n"
     ]
    },
    {
     "data": {
      "text/plain": [
       "[True, False, False, False, False]"
      ]
     },
     "execution_count": 23,
     "metadata": {},
     "output_type": "execute_result"
    }
   ],
   "source": [
    "D = Digraph(5)\n",
    "edges = [(0, 1), (1, 2), (0, 2), (2, 4)]\n",
    "D.add_edges(edges)\n",
    "D.print_digraph()\n",
    "D.adj_list\n",
    "\n",
    "# inspiration: https://www.hackerearth.com/practice/algorithms/graphs/breadth-first-search/tutorial/"
   ]
  },
  {
   "cell_type": "code",
   "execution_count": 13,
   "metadata": {},
   "outputs": [],
   "source": [
    "# Breadth-first search\n",
    "def BFS(D, s):\n",
    "    # D is the digraph object we made\n",
    "    # s is the starting vertex \n",
    "    \n",
    "    reached = [True] + [False for i in range(1, D.V)]\n",
    "    scanned = [False for i in range(0, D.V)]\n",
    "    \n",
    "    \n",
    "    q = [s]\n",
    "    \n",
    "    while q:\n",
    "        # a non empty list will compute as true\n",
    "        \n",
    "    "
   ]
  },
  {
   "cell_type": "code",
   "execution_count": null,
   "metadata": {
    "collapsed": true
   },
   "outputs": [],
   "source": []
  }
 ],
 "metadata": {
  "kernelspec": {
   "display_name": "Python 3",
   "language": "python",
   "name": "python3"
  },
  "language_info": {
   "codemirror_mode": {
    "name": "ipython",
    "version": 3
   },
   "file_extension": ".py",
   "mimetype": "text/x-python",
   "name": "python",
   "nbconvert_exporter": "python",
   "pygments_lexer": "ipython3",
   "version": "3.6.3"
  }
 },
 "nbformat": 4,
 "nbformat_minor": 2
}
