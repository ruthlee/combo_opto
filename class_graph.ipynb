{
 "cells": [
  {
   "cell_type": "code",
   "execution_count": 43,
   "metadata": {},
   "outputs": [],
   "source": [
    "# goal: implement an adjacency list class for a digraph given a list of inputs that connect two vertices. \n",
    "# We want methods for adding edges by inputting two integers, i.e., 1, 2 means that vertices 1 and 2 are connected.\n",
    "# since \n",
    "\n",
    "class Digraph:\n",
    "    def __init__(self, V): # V is the number of vertices\n",
    "        self.V = V\n",
    "        self.adj_list = [[] for i in range(V)] # placeholder adjacency list \n",
    "    \n",
    "    # add edge\n",
    "    def add_edge(self, v, w): # v, w in V\n",
    "        self.adj_list[v].append(w)\n",
    "    \n",
    "    def print_digraph(self, long = True):\n",
    "    # returns a summary of the digraph, with optional boolean input \"long\" for a more descriptive output\n",
    "        if long: \n",
    "            for i in range(len(self.adj_list)):\n",
    "                print('Vertex ' + str(i) + ' is adjacent to vertices ', end=\"\")\n",
    "                print(*self.adj_list[i])\n",
    "        else:\n",
    "            for i in range(len(self.adj_list)):\n",
    "                print(str(i) + '->', end='')\n",
    "                print(*self.adj_list[i], sep = '->')"
   ]
  },
  {
   "cell_type": "code",
   "execution_count": 45,
   "metadata": {},
   "outputs": [
    {
     "name": "stdout",
     "output_type": "stream",
     "text": [
      "0->1->4\n",
      "1->3\n",
      "2->4\n",
      "3->\n"
     ]
    }
   ],
   "source": [
    "D = Digraph(4)\n",
    "D.add_edge(0, 1)\n",
    "D.add_edge(1, 3)\n",
    "D.add_edge(2, 4)\n",
    "D.add_edge(0, 4)\n",
    "D.print_digraph(long = False)"
   ]
  },
  {
   "cell_type": "code",
   "execution_count": null,
   "metadata": {
    "collapsed": true
   },
   "outputs": [],
   "source": []
  }
 ],
 "metadata": {
  "kernelspec": {
   "display_name": "Python 3",
   "language": "python",
   "name": "python3"
  },
  "language_info": {
   "codemirror_mode": {
    "name": "ipython",
    "version": 3
   },
   "file_extension": ".py",
   "mimetype": "text/x-python",
   "name": "python",
   "nbconvert_exporter": "python",
   "pygments_lexer": "ipython3",
   "version": "3.6.3"
  }
 },
 "nbformat": 4,
 "nbformat_minor": 2
}
